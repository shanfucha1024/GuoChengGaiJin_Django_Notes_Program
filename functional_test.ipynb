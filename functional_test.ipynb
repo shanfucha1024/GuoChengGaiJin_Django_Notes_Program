{
 "cells": [
  {
   "cell_type": "code",
   "execution_count": 1,
   "metadata": {},
   "outputs": [],
   "source": [
    "# from selenium import webdriver\n",
    "\n",
    "# browser = webdriver.Chrome()\n",
    "# browser.get('http://localhost:8000')\n",
    "\n",
    "# assert 'Django' in browser.page_source"
   ]
  },
  {
   "cell_type": "code",
   "execution_count": 2,
   "metadata": {},
   "outputs": [],
   "source": [
    "# from selenium import webdriver\n",
    "\n",
    "# browser = webdriver.Chrome()\n",
    "# browser.get('http://localhost:8000')\n",
    "\n",
    "# assert 'To-Do' in browser.page_source\n",
    "\n",
    "# browser.quit()"
   ]
  },
  {
   "cell_type": "code",
   "execution_count": 3,
   "metadata": {},
   "outputs": [],
   "source": [
    "# from selenium import webdriver\n",
    "# from selenium.webdriver.common.keys import Keys\n",
    "# import time\n",
    "# import unittest\n",
    "# from selenium.webdriver.common.by import By\n",
    "\n",
    "# class NewVisitorTest(unittest.TestCase):\n",
    "#     def setup(self):\n",
    "#         self.browser = webdriver.Chrome()\n",
    "#     def tearDown(self):\n",
    "#         self.browser.quit()\n",
    "#     def test_can_start_a_list_and_retrieve_it_later(self):\n",
    "#         self.browser.get('http://localhost:8000')\n",
    "#         self.assertIn('To-Do',self.browser.title), \"browser titlw was:\" + self.browser.title\n",
    "#         self.fail(\"Finish the test!\")\n",
    "\n",
    "# if __name__ == 'main':\n",
    "#     unittest.main()"
   ]
  },
  {
   "cell_type": "code",
   "execution_count": 4,
   "metadata": {},
   "outputs": [],
   "source": [
    "from selenium import webdriver\n",
    "from selenium.webdriver.common.keys import Keys\n",
    "import time\n",
    "import unittest\n",
    "from selenium.webdriver.common.by import By\n",
    "\n",
    "class NewVisitorTest(unittest.TestCase):\n",
    "    def setup(self):\n",
    "        self.browser = webdriver.Chrome()\n",
    "    def tearDown(self):\n",
    "        self.browser.quit()\n",
    "    def test_can_start_a_list_and_retrieve_it_later(self):\n",
    "        self.browser.get('http://localhost:8000')\n",
    "        self.assertIn('To-Do',self.browser.title)\n",
    "        header_text = self.browser.find_element(By.TAG_NAME,'h1').text\n",
    "        self.assertIn('To-Do',header_text)\n",
    "\n",
    "        inputbox = self.browser.find_element(By.ID,'id_new_item')\n",
    "        self.assertEqual(\n",
    "            inputbox.get_attribute('placeholder'),\n",
    "            'Enter a to-do item'\n",
    "        )\n",
    "        inputbox.send_keys('Buy flowers')\n",
    "        \n",
    "        inputbox.send_keys(Keys.ENTER)\n",
    "        time.sleep(1)\n",
    "\n",
    "        table = self.browser.find_element(By.ID,'id_list_table')\n",
    "        rows = table.find_elements(By.TAG_NAME,'tr')\n",
    "        self.assertIn('1: Buy flowers',[row.text for row in rows])\n",
    "\n",
    "        self.fail(\"Finish the test!\")\n",
    "\n",
    "if __name__ == 'main':\n",
    "    unittest.main()"
   ]
  },
  {
   "cell_type": "code",
   "execution_count": null,
   "metadata": {},
   "outputs": [],
   "source": []
  }
 ],
 "metadata": {
  "kernelspec": {
   "display_name": "py37",
   "language": "python",
   "name": "python3"
  },
  "language_info": {
   "codemirror_mode": {
    "name": "ipython",
    "version": 3
   },
   "file_extension": ".py",
   "mimetype": "text/x-python",
   "name": "python",
   "nbconvert_exporter": "python",
   "pygments_lexer": "ipython3",
   "version": "3.7.16"
  }
 },
 "nbformat": 4,
 "nbformat_minor": 2
}
